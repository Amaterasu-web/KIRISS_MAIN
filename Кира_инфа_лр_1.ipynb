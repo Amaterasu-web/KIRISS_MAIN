{
  "nbformat": 4,
  "nbformat_minor": 0,
  "metadata": {
    "colab": {
      "provenance": [],
      "authorship_tag": "ABX9TyNZx0k/FyjGV9DiuYzwpg7G",
      "include_colab_link": true
    },
    "kernelspec": {
      "name": "python3",
      "display_name": "Python 3"
    },
    "language_info": {
      "name": "python"
    }
  },
  "cells": [
    {
      "cell_type": "markdown",
      "metadata": {
        "id": "view-in-github",
        "colab_type": "text"
      },
      "source": [
        "<a href=\"https://colab.research.google.com/github/Amaterasu-web/KIRISS_MAIN/blob/main/%D0%9A%D0%B8%D1%80%D0%B0_%D0%B8%D0%BD%D1%84%D0%B0_%D0%BB%D1%80_1.ipynb\" target=\"_parent\"><img src=\"https://colab.research.google.com/assets/colab-badge.svg\" alt=\"Open In Colab\"/></a>"
      ]
    },
    {
      "cell_type": "code",
      "execution_count": null,
      "metadata": {
        "colab": {
          "base_uri": "https://localhost:8080/"
        },
        "id": "sczvmvPWygKz",
        "outputId": "a63f6c6b-9f20-4a45-8652-7205e56d0d3b"
      },
      "outputs": [
        {
          "output_type": "stream",
          "name": "stdout",
          "text": [
            "17.5 -7.5 62.5 0.4 <class 'float'>\n",
            "Площадь круга:  78.54\n"
          ]
        }
      ],
      "source": [
        "#1 задание\n",
        "a = int (5)\n",
        "b = float (12.5)\n",
        "sum = a+b\n",
        "diz= a-b\n",
        "ymn = a*b\n",
        "raz= a/b\n",
        "print(sum, diz, ymn, raz, type(raz))\n",
        "\n",
        "import math\n",
        "c = math.pi\n",
        "r = 5\n",
        "s = r**2 * c\n",
        "print(\"Площадь круга: \", round(s, 2))\n",
        "\n",
        "\n",
        "\n",
        "\n",
        "\n"
      ]
    },
    {
      "cell_type": "code",
      "source": [
        "#2 задание\n",
        "text = \"  Hello, Python!  \"\n",
        "f = text.strip( )\n",
        "print (f)\n",
        "print (text.replace('!', '?'))\n",
        "print (text.upper())\n",
        "print(f.lower())"
      ],
      "metadata": {
        "colab": {
          "base_uri": "https://localhost:8080/"
        },
        "id": "x2ICg39l2WuD",
        "outputId": "b0691a99-6e90-4277-a522-9f719371e741"
      },
      "execution_count": null,
      "outputs": [
        {
          "output_type": "stream",
          "name": "stdout",
          "text": [
            "Hello, Python!\n",
            "  Hello, Python?  \n",
            "  HELLO, PYTHON!  \n",
            "hello, python!\n"
          ]
        }
      ]
    },
    {
      "cell_type": "code",
      "source": [
        "#3 задание\n",
        "import copy\n",
        "num = [12, 5, 8]\n",
        "num.append(4)\n",
        "num.insert(2, 10)\n",
        "num.extend ([1, 1, 1])\n",
        "num.remove(12)\n",
        "num\n",
        "last = num.pop()\n",
        "print(num)\n",
        "print(last)\n",
        "num.sort()\n",
        "print(num)\n",
        "num.reverse()\n",
        "print(num)\n",
        "num.count(2)\n",
        "print(num.index(1))\n",
        "print(num.copy())\n",
        "copy.deepcopy(num)\n",
        "print(num)\n",
        "print(num.clear())\n",
        "\n"
      ],
      "metadata": {
        "colab": {
          "base_uri": "https://localhost:8080/"
        },
        "id": "5tfORa0K5QKR",
        "outputId": "cbd35b69-a98b-4f28-ad3b-59fa9ba83d21"
      },
      "execution_count": null,
      "outputs": [
        {
          "output_type": "stream",
          "name": "stdout",
          "text": [
            "[5, 10, 8, 4, 1, 1]\n",
            "1\n",
            "[1, 1, 4, 5, 8, 10]\n",
            "[10, 8, 5, 4, 1, 1]\n",
            "4\n",
            "[10, 8, 5, 4, 1, 1]\n"
          ]
        },
        {
          "output_type": "execute_result",
          "data": {
            "text/plain": [
              "[10, 8, 5, 4, 1, 1]"
            ]
          },
          "metadata": {},
          "execution_count": 26
        }
      ]
    },
    {
      "cell_type": "code",
      "source": [
        "#4 задание\n",
        "t = (1, 2, 3)\n",
        "try:\n",
        "  t[1] = 100\n",
        "except:\n",
        "  print(\"false\")\n",
        "print(t)\n",
        "another = (4, 5)\n",
        "t2 = t + another\n",
        "print (t2)\n",
        "a = t2.count(3)\n",
        "b = t2.index(4)\n",
        "print(a, b)\n",
        "print (t)\n",
        "\n"
      ],
      "metadata": {
        "colab": {
          "base_uri": "https://localhost:8080/"
        },
        "id": "ms4JsLEq_EFd",
        "outputId": "069550d0-3e6a-4ced-dbb9-4804b2771576"
      },
      "execution_count": null,
      "outputs": [
        {
          "output_type": "stream",
          "name": "stdout",
          "text": [
            "false\n",
            "(1, 2, 3)\n",
            "(1, 2, 3, 4, 5)\n",
            "1 3\n",
            "(1, 2, 3)\n"
          ]
        }
      ]
    },
    {
      "cell_type": "code",
      "source": [
        "#5 задание\n",
        "values = [3, 1, 3, 2, 1, 5, 2]\n",
        "a = unique_values = set(values)\n",
        "b = len(unique_values)\n",
        "print(a, b)\n",
        "other = {2, 4, 5}\n",
        "print(unique_values & other)\n",
        "print(unique_values | other)\n",
        "print(unique_values - other)\n",
        "print(other - unique_values)"
      ],
      "metadata": {
        "colab": {
          "base_uri": "https://localhost:8080/"
        },
        "id": "MPYH7_vVB94a",
        "outputId": "17a75936-116e-4e05-83ec-232cbda79695"
      },
      "execution_count": null,
      "outputs": [
        {
          "output_type": "stream",
          "name": "stdout",
          "text": [
            "{1, 2, 3, 5} 4\n",
            "{2, 5}\n",
            "{1, 2, 3, 4, 5}\n",
            "{1, 3}\n",
            "{4}\n"
          ]
        }
      ]
    },
    {
      "cell_type": "code",
      "source": [
        "#6 задание\n",
        "scores = {\"Alice\": 85, \"Bob\": 90}\n",
        "scores[\"Charlie\"] = 78\n",
        "print(scores)"
      ],
      "metadata": {
        "colab": {
          "base_uri": "https://localhost:8080/"
        },
        "id": "ZbVXxl1OE9g6",
        "outputId": "f73a11e7-2aa7-4993-e52c-6156c8e8d8a8"
      },
      "execution_count": null,
      "outputs": [
        {
          "output_type": "stream",
          "name": "stdout",
          "text": [
            "{'Alice': 85, 'Bob': 90, 'Charlie': 78}\n"
          ]
        }
      ]
    },
    {
      "cell_type": "code",
      "source": [
        "text = \"\"\"\n",
        "    Python is a powerful programming language.\n",
        "    It is used in data science, web development, automation, and many other fields!\n",
        "    PYTHON is easy to learn, yet very versatile.\n",
        "\"\"\"\n",
        "a = text.strip()\n",
        "a == b\n",
        "b = a.lower()\n",
        "#print(b.replace('!', '.'))\n",
        "parts = text.split('.')\n",
        "#print(parts[0].strip())\n",
        "#print(parts[1].strip())\n",
        "#print(parts[2].strip())\n",
        "print(parts[0].split())\n",
        "print(parts[0].count(\"Python\"))\n",
        "print(parts[0].startswith(\"Python\"), parts[0].endswith(\"language\"))\n",
        "words = parts[0]\n",
        "num = len(words)\n",
        "print(num)\n",
        "print(words.count(\"a\"))\n",
        "print(words.find(\"data\"))\n",
        "words_1 = parts[0].split()\n",
        "result = '-'.join(words_1)\n",
        "print(result)\n",
        "element = {}\n",
        "for i in words_1:\n",
        "  element[i] = words_1.count(i)\n",
        "print(element)\n",
        "import re\n",
        "n = words.strip()\n",
        "n = text.lower()\n",
        "cleaned_text= re.sub(r'[^a-zа-яё\\s]', '', n)\n",
        "print(cleaned_text)\n",
        "\n",
        "\n"
      ],
      "metadata": {
        "colab": {
          "base_uri": "https://localhost:8080/"
        },
        "id": "Mzp42c__NBLA",
        "outputId": "3019c7e9-5764-49c8-d5ba-5d8139ed930d"
      },
      "execution_count": 115,
      "outputs": [
        {
          "output_type": "stream",
          "name": "stdout",
          "text": [
            "['Python', 'is', 'a', 'powerful', 'programming', 'language']\n",
            "1\n",
            "False True\n",
            "46\n",
            "4\n",
            "-1\n",
            "Python-is-a-powerful-programming-language\n",
            "{'Python': 1, 'is': 1, 'a': 1, 'powerful': 1, 'programming': 1, 'language': 1}\n",
            "\n",
            "    python is a powerful programming language \n",
            "    it is used in data science web development automation and many other fields\n",
            "    python is easy to learn yet very versatile\n",
            "\n"
          ]
        }
      ]
    }
  ]
}